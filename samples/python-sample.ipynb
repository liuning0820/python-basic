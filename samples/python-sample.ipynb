{
 "cells": [
  {
   "cell_type": "code",
   "execution_count": 1,
   "metadata": {},
   "outputs": [],
   "source": [
    "import json\n",
    "\n",
    "jasc_config_metadata = json.loads('{\"Owners\": \"DL_DEVOPS\", \"DeployEnv\": {\"eng\": {\"hosts\": [\"devops-eng.tesla.cn\"], \"modules\": {\"default\": {\"resources\": {\"limits\": {\"cpu\": \"1\", \"memory\": \"512Mi\"}, \"requests\": {\"cpu\": \"0.25\", \"memory\": \"256Mi\"}}, \"replicaCount\": 1}}, \"branches\": [\"develop\"], \"namespace\": \"china-devops\", \"cluster_name\": \"cn-pvg16-eng-cnapp\", \"fuze_project_urn\": \"d4g6AjP54F9WP9qeyH4ar5\"}, \"prd\": {\"hosts\": [\"devops.tesla.cn\", \"devops.cn-pvg16-prd-cnapp.k8s.tesla.com\"], \"branches\": [\"master\", \"release/*\"], \"namespace\": \"china-devops-prod\", \"cr_approval\": {\"need_cr\": false}, \"cluster_name\": \"cn-pvg16-prd-cnapp\", \"notifications\": {\"teams\": \"DevOps\", \"mailList\": \"DL_GFSH_DEVOPS@tesla.com\", \"matterMostChannel\": \"jasc-china-devops-build\"}, \"fuze_project_urn\": \"hQEHKRgahcS5zDbdbBgL4b\"}}, \"IsVMAgent\": false, \"GithubRepo\": \"ITApp/devops-guide\", \"JiraTicket\": \"DEVOPS-7000\", \"ARBJiraticket\": \"ARB-851\"}')"
   ]
  },
  {
   "cell_type": "code",
   "execution_count": 2,
   "metadata": {},
   "outputs": [
    {
     "name": "stdout",
     "output_type": "stream",
     "text": [
      "{'Owners': 'DL_DEVOPS', 'DeployEnv': {'eng': {'hosts': ['devops-eng.tesla.cn'], 'modules': {'default': {'resources': {'limits': {'cpu': '1', 'memory': '512Mi'}, 'requests': {'cpu': '0.25', 'memory': '256Mi'}}, 'replicaCount': 1}}, 'branches': ['develop'], 'namespace': 'china-devops', 'cluster_name': 'cn-pvg16-eng-cnapp', 'fuze_project_urn': 'd4g6AjP54F9WP9qeyH4ar5'}, 'prd': {'hosts': ['devops.tesla.cn', 'devops.cn-pvg16-prd-cnapp.k8s.tesla.com'], 'branches': ['master', 'release/*'], 'namespace': 'china-devops-prod', 'cr_approval': {'need_cr': False}, 'cluster_name': 'cn-pvg16-prd-cnapp', 'notifications': {'teams': 'DevOps', 'mailList': 'DL_GFSH_DEVOPS@tesla.com', 'matterMostChannel': 'jasc-china-devops-build'}, 'fuze_project_urn': 'hQEHKRgahcS5zDbdbBgL4b'}}, 'IsVMAgent': False, 'GithubRepo': 'ITApp/devops-guide', 'JiraTicket': 'DEVOPS-7000', 'ARBJiraticket': 'ARB-851'}\n"
     ]
    }
   ],
   "source": [
    "print(jasc_config_metadata)"
   ]
  },
  {
   "cell_type": "code",
   "execution_count": 12,
   "metadata": {},
   "outputs": [
    {
     "data": {
      "text/plain": [
       "False"
      ]
     },
     "execution_count": 12,
     "metadata": {},
     "output_type": "execute_result"
    }
   ],
   "source": [
    "def need_cr():\n",
    "    need_cr = True\n",
    "    for deploy_env_name, deploy_env_data in jasc_config_metadata.get('DeployEnv', {}).items():\n",
    "        if not deploy_env_name or deploy_env_name != 'prd':\n",
    "            pass\n",
    "        else:\n",
    "            cr_approval = deploy_env_data.get('cr_approval', {})\n",
    "            need_cr = cr_approval.get('need_cr','True')\n",
    "    return need_cr\n",
    "\n",
    "need_cr()"
   ]
  }
 ],
 "metadata": {
  "kernelspec": {
   "display_name": "python-basic",
   "language": "python",
   "name": "python3"
  },
  "language_info": {
   "codemirror_mode": {
    "name": "ipython",
    "version": 3
   },
   "file_extension": ".py",
   "mimetype": "text/x-python",
   "name": "python",
   "nbconvert_exporter": "python",
   "pygments_lexer": "ipython3",
   "version": "3.11.5"
  },
  "orig_nbformat": 4
 },
 "nbformat": 4,
 "nbformat_minor": 2
}
