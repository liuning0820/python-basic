{
 "cells": [
  {
   "cell_type": "code",
   "execution_count": 1,
   "metadata": {
    "collapsed": true,
    "ExecuteTime": {
     "start_time": "2023-05-07T08:34:18.256784Z",
     "end_time": "2023-05-07T08:34:18.324879Z"
    }
   },
   "outputs": [
    {
     "data": {
      "text/plain": "'bar'"
     },
     "execution_count": 1,
     "metadata": {},
     "output_type": "execute_result"
    }
   ],
   "source": [
    "import redis\n",
    "\n",
    "r = redis.Redis(host='localhost', port=6379, decode_responses=True)\n",
    "\n",
    "r.set('foo','bar')\n",
    "\n",
    "r.get('foo')"
   ]
  },
  {
   "cell_type": "markdown",
   "source": [
    "## Connect to a Redis cluster"
   ],
   "metadata": {
    "collapsed": false
   }
  },
  {
   "cell_type": "code",
   "execution_count": 3,
   "outputs": [
    {
     "ename": "RedisClusterException",
     "evalue": "Redis Cluster cannot be connected. Please provide at least one reachable node: Cluster mode is not enabled on this node",
     "output_type": "error",
     "traceback": [
      "\u001B[1;31m---------------------------------------------------------------------------\u001B[0m",
      "\u001B[1;31mRedisClusterException\u001B[0m                     Traceback (most recent call last)",
      "File \u001B[1;32m~\\miniconda3\\envs\\python-web-scraping\\lib\\site-packages\\redis\\cluster.py:1474\u001B[0m, in \u001B[0;36mNodesManager.initialize\u001B[1;34m(self)\u001B[0m\n\u001B[0;32m   1473\u001B[0m \u001B[38;5;28;01mif\u001B[39;00m \u001B[38;5;28mbool\u001B[39m(r\u001B[38;5;241m.\u001B[39minfo()\u001B[38;5;241m.\u001B[39mget(\u001B[38;5;124m\"\u001B[39m\u001B[38;5;124mcluster_enabled\u001B[39m\u001B[38;5;124m\"\u001B[39m)) \u001B[38;5;129;01mis\u001B[39;00m \u001B[38;5;28;01mFalse\u001B[39;00m:\n\u001B[1;32m-> 1474\u001B[0m     \u001B[38;5;28;01mraise\u001B[39;00m RedisClusterException(\n\u001B[0;32m   1475\u001B[0m         \u001B[38;5;124m\"\u001B[39m\u001B[38;5;124mCluster mode is not enabled on this node\u001B[39m\u001B[38;5;124m\"\u001B[39m\n\u001B[0;32m   1476\u001B[0m     )\n\u001B[0;32m   1477\u001B[0m cluster_slots \u001B[38;5;241m=\u001B[39m str_if_bytes(r\u001B[38;5;241m.\u001B[39mexecute_command(\u001B[38;5;124m\"\u001B[39m\u001B[38;5;124mCLUSTER SLOTS\u001B[39m\u001B[38;5;124m\"\u001B[39m))\n",
      "\u001B[1;31mRedisClusterException\u001B[0m: Cluster mode is not enabled on this node",
      "\nThe above exception was the direct cause of the following exception:\n",
      "\u001B[1;31mRedisClusterException\u001B[0m                     Traceback (most recent call last)",
      "Cell \u001B[1;32mIn[3], line 3\u001B[0m\n\u001B[0;32m      1\u001B[0m \u001B[38;5;28;01mfrom\u001B[39;00m \u001B[38;5;21;01mredis\u001B[39;00m\u001B[38;5;21;01m.\u001B[39;00m\u001B[38;5;21;01mcluster\u001B[39;00m \u001B[38;5;28;01mimport\u001B[39;00m RedisCluster\n\u001B[1;32m----> 3\u001B[0m rc \u001B[38;5;241m=\u001B[39m \u001B[43mRedisCluster\u001B[49m\u001B[43m(\u001B[49m\u001B[43mhost\u001B[49m\u001B[38;5;241;43m=\u001B[39;49m\u001B[38;5;124;43m'\u001B[39;49m\u001B[38;5;124;43mlocalhost\u001B[39;49m\u001B[38;5;124;43m'\u001B[39;49m\u001B[43m,\u001B[49m\u001B[43m \u001B[49m\u001B[43mport\u001B[49m\u001B[38;5;241;43m=\u001B[39;49m\u001B[38;5;241;43m6379\u001B[39;49m\u001B[43m)\u001B[49m\n\u001B[0;32m      5\u001B[0m \u001B[38;5;28mprint\u001B[39m(rc\u001B[38;5;241m.\u001B[39mget_nodes())\n\u001B[0;32m      6\u001B[0m \u001B[38;5;66;03m# [[host=127.0.0.1,port=16379,name=127.0.0.1:16379,server_type=primary,redis_connection=Redis<ConnectionPool<Connection<host=127.0.0.1,port=16379,db=0>>>], ...\u001B[39;00m\n",
      "File \u001B[1;32m~\\miniconda3\\envs\\python-web-scraping\\lib\\site-packages\\redis\\cluster.py:592\u001B[0m, in \u001B[0;36mRedisCluster.__init__\u001B[1;34m(self, host, port, startup_nodes, cluster_error_retry_attempts, retry, require_full_coverage, reinitialize_steps, read_from_replicas, dynamic_startup_nodes, url, **kwargs)\u001B[0m\n\u001B[0;32m    590\u001B[0m \u001B[38;5;28mself\u001B[39m\u001B[38;5;241m.\u001B[39mreinitialize_counter \u001B[38;5;241m=\u001B[39m \u001B[38;5;241m0\u001B[39m\n\u001B[0;32m    591\u001B[0m \u001B[38;5;28mself\u001B[39m\u001B[38;5;241m.\u001B[39mreinitialize_steps \u001B[38;5;241m=\u001B[39m reinitialize_steps\n\u001B[1;32m--> 592\u001B[0m \u001B[38;5;28mself\u001B[39m\u001B[38;5;241m.\u001B[39mnodes_manager \u001B[38;5;241m=\u001B[39m NodesManager(\n\u001B[0;32m    593\u001B[0m     startup_nodes\u001B[38;5;241m=\u001B[39mstartup_nodes,\n\u001B[0;32m    594\u001B[0m     from_url\u001B[38;5;241m=\u001B[39mfrom_url,\n\u001B[0;32m    595\u001B[0m     require_full_coverage\u001B[38;5;241m=\u001B[39mrequire_full_coverage,\n\u001B[0;32m    596\u001B[0m     dynamic_startup_nodes\u001B[38;5;241m=\u001B[39mdynamic_startup_nodes,\n\u001B[0;32m    597\u001B[0m     \u001B[38;5;241m*\u001B[39m\u001B[38;5;241m*\u001B[39mkwargs,\n\u001B[0;32m    598\u001B[0m )\n\u001B[0;32m    600\u001B[0m \u001B[38;5;28mself\u001B[39m\u001B[38;5;241m.\u001B[39mcluster_response_callbacks \u001B[38;5;241m=\u001B[39m CaseInsensitiveDict(\n\u001B[0;32m    601\u001B[0m     \u001B[38;5;28mself\u001B[39m\u001B[38;5;241m.\u001B[39m\u001B[38;5;18m__class__\u001B[39m\u001B[38;5;241m.\u001B[39mCLUSTER_COMMANDS_RESPONSE_CALLBACKS\n\u001B[0;32m    602\u001B[0m )\n\u001B[0;32m    603\u001B[0m \u001B[38;5;28mself\u001B[39m\u001B[38;5;241m.\u001B[39mresult_callbacks \u001B[38;5;241m=\u001B[39m CaseInsensitiveDict(\u001B[38;5;28mself\u001B[39m\u001B[38;5;241m.\u001B[39m\u001B[38;5;18m__class__\u001B[39m\u001B[38;5;241m.\u001B[39mRESULT_CALLBACKS)\n",
      "File \u001B[1;32m~\\miniconda3\\envs\\python-web-scraping\\lib\\site-packages\\redis\\cluster.py:1289\u001B[0m, in \u001B[0;36mNodesManager.__init__\u001B[1;34m(self, startup_nodes, from_url, require_full_coverage, lock, dynamic_startup_nodes, connection_pool_class, **kwargs)\u001B[0m\n\u001B[0;32m   1287\u001B[0m     lock \u001B[38;5;241m=\u001B[39m threading\u001B[38;5;241m.\u001B[39mLock()\n\u001B[0;32m   1288\u001B[0m \u001B[38;5;28mself\u001B[39m\u001B[38;5;241m.\u001B[39m_lock \u001B[38;5;241m=\u001B[39m lock\n\u001B[1;32m-> 1289\u001B[0m \u001B[38;5;28;43mself\u001B[39;49m\u001B[38;5;241;43m.\u001B[39;49m\u001B[43minitialize\u001B[49m\u001B[43m(\u001B[49m\u001B[43m)\u001B[49m\n",
      "File \u001B[1;32m~\\miniconda3\\envs\\python-web-scraping\\lib\\site-packages\\redis\\cluster.py:1552\u001B[0m, in \u001B[0;36mNodesManager.initialize\u001B[1;34m(self)\u001B[0m\n\u001B[0;32m   1549\u001B[0m         \u001B[38;5;28;01mbreak\u001B[39;00m\n\u001B[0;32m   1551\u001B[0m \u001B[38;5;28;01mif\u001B[39;00m \u001B[38;5;129;01mnot\u001B[39;00m startup_nodes_reachable:\n\u001B[1;32m-> 1552\u001B[0m     \u001B[38;5;28;01mraise\u001B[39;00m RedisClusterException(\n\u001B[0;32m   1553\u001B[0m         \u001B[38;5;124mf\u001B[39m\u001B[38;5;124m\"\u001B[39m\u001B[38;5;124mRedis Cluster cannot be connected. Please provide at least \u001B[39m\u001B[38;5;124m\"\u001B[39m\n\u001B[0;32m   1554\u001B[0m         \u001B[38;5;124mf\u001B[39m\u001B[38;5;124m\"\u001B[39m\u001B[38;5;124mone reachable node: \u001B[39m\u001B[38;5;132;01m{\u001B[39;00m\u001B[38;5;28mstr\u001B[39m(exception)\u001B[38;5;132;01m}\u001B[39;00m\u001B[38;5;124m\"\u001B[39m\n\u001B[0;32m   1555\u001B[0m     ) \u001B[38;5;28;01mfrom\u001B[39;00m \u001B[38;5;21;01mexception\u001B[39;00m\n\u001B[0;32m   1557\u001B[0m \u001B[38;5;66;03m# Create Redis connections to all nodes\u001B[39;00m\n\u001B[0;32m   1558\u001B[0m \u001B[38;5;28mself\u001B[39m\u001B[38;5;241m.\u001B[39mcreate_redis_connections(\u001B[38;5;28mlist\u001B[39m(tmp_nodes_cache\u001B[38;5;241m.\u001B[39mvalues()))\n",
      "\u001B[1;31mRedisClusterException\u001B[0m: Redis Cluster cannot be connected. Please provide at least one reachable node: Cluster mode is not enabled on this node"
     ]
    }
   ],
   "source": [
    "from redis.cluster import RedisCluster\n",
    "\n",
    "rc = RedisCluster(host='localhost', port=6379)\n",
    "\n",
    "print(rc.get_nodes())\n",
    "\n",
    "rc.set('foo', 'bar')\n",
    "\n",
    "\n",
    "rc.get('foo')"
   ],
   "metadata": {
    "collapsed": false
   }
  },
  {
   "cell_type": "code",
   "execution_count": null,
   "outputs": [],
   "source": [],
   "metadata": {
    "collapsed": false
   }
  }
 ],
 "metadata": {
  "kernelspec": {
   "display_name": "Python 3",
   "language": "python",
   "name": "python3"
  },
  "language_info": {
   "codemirror_mode": {
    "name": "ipython",
    "version": 2
   },
   "file_extension": ".py",
   "mimetype": "text/x-python",
   "name": "python",
   "nbconvert_exporter": "python",
   "pygments_lexer": "ipython2",
   "version": "2.7.6"
  }
 },
 "nbformat": 4,
 "nbformat_minor": 0
}
