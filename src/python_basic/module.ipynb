{
 "cells": [
  {
   "cell_type": "code",
   "execution_count": null,
   "metadata": {
    "ExecuteTime": {
     "end_time": "2023-10-31T19:30:23.115727Z",
     "start_time": "2023-10-31T19:30:23.100648Z"
    },
    "collapsed": true
   },
   "outputs": [],
   "source": [
    "# coding:UTF-8\n",
    "import sys\n",
    "\n",
    "print(sys.path)\n",
    "print(type(sys.path))"
   ]
  },
  {
   "cell_type": "code",
   "execution_count": null,
   "metadata": {
    "ExecuteTime": {
     "end_time": "2023-10-31T19:32:24.525294Z",
     "start_time": "2023-10-31T19:32:24.490560Z"
    },
    "collapsed": false
   },
   "outputs": [],
   "source": [
    "# 获取当前导入的模块和他们来自的路径\n",
    "# print(sys.modules)\n",
    "print(type(sys.modules))"
   ]
  },
  {
   "cell_type": "code",
   "execution_count": null,
   "metadata": {
    "collapsed": false
   },
   "outputs": [],
   "source": []
  }
 ],
 "metadata": {
  "kernelspec": {
   "display_name": "Python 3",
   "language": "python",
   "name": "python3"
  },
  "language_info": {
   "codemirror_mode": {
    "name": "ipython",
    "version": 2
   },
   "file_extension": ".py",
   "mimetype": "text/x-python",
   "name": "python",
   "nbconvert_exporter": "python",
   "pygments_lexer": "ipython2",
   "version": "2.7.6"
  }
 },
 "nbformat": 4,
 "nbformat_minor": 0
}
