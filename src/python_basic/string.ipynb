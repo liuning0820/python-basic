{
 "cells": [
  {
   "cell_type": "markdown",
   "metadata": {},
   "source": [
    "# Quotes and multi-line strings\n",
    "\n",
    "## Quotes\n",
    "\n",
    "As you know, a string literal is surrounded by a pair of single or double quotes. There is basically no difference between the two, but there are some common conventions concerning their use:\n",
    "\n",
    "Use double quotes if your string contains single quotes, for example, \"You're doing great!\".\n",
    "Use single quotes if your string contains double quotes, for example, 'Have you read \"Hamlet\"?'.\n",
    "Do not mix two styles in one literal! For example, something like \"string!' is not correct.\n",
    "Most importantly, be consistent in your use!\n",
    "There is a way to include any quotes in your string, regardless of the style of the outer quotes, and that is to use the backslash symbol (\\) before the quotes inside of the string. The backslash will basically tell Python that the quote symbol that follows it is a part of the string rather than its end or beginning. It is called escaping, and you'll learn about it in detail in the next topics.\n",
    "\n",
    "In the examples below, both ways of writing strings are correct and will produce the same result:"
   ]
  },
  {
   "cell_type": "code",
   "execution_count": 1,
   "metadata": {},
   "outputs": [
    {
     "name": "stdout",
     "output_type": "stream",
     "text": [
      "You're doing great!\n",
      "You're doing great!\n",
      "Have you read \"Hamlet\"?\n",
      "Have you read \"Hamlet\"?\n"
     ]
    }
   ],
   "source": [
    "\n",
    "# example 1\n",
    "print(\"You're doing great!\")\n",
    "print('You\\'re doing great!')\n",
    "# example 2\n",
    "print(\"Have you read \\\"Hamlet\\\"?\")\n",
    "print('Have you read \"Hamlet\"?')\n",
    "\n"
   ]
  },
  {
   "cell_type": "markdown",
   "metadata": {},
   "source": [
    "## Multiline strings\n",
    "Strings can represent a long text, a single character, or even no characters, like in the case of an empty string. One thing has so far been true about all of them: all our strings were single line, no matter how long they were. However, you can also write multi-line strings in Python! To do that, you need to use triple quotes on each side of the string literal. Again, the choice of single or double quotes is up to you as both work fine in Python.\n",
    "\n",
    "### Multi-line string in double quotes"
   ]
  },
  {
   "cell_type": "code",
   "execution_count": 1,
   "metadata": {},
   "outputs": [
    {
     "name": "stdout",
     "output_type": "stream",
     "text": [
      "This \n",
      "is \n",
      "a \n",
      "multi-line \n",
      "string\n"
     ]
    }
   ],
   "source": [
    "print(\"\"\"This \n",
    "is \n",
    "a \n",
    "multi-line \n",
    "string\"\"\")"
   ]
  },
  {
   "cell_type": "markdown",
   "metadata": {},
   "source": [
    "### Multi-line string in single quotes"
   ]
  },
  {
   "cell_type": "code",
   "execution_count": 2,
   "metadata": {},
   "outputs": [
    {
     "name": "stdout",
     "output_type": "stream",
     "text": [
      "This \n",
      "is \n",
      "a \n",
      "multi-line \n",
      "string\n"
     ]
    }
   ],
   "source": [
    "print('''This \n",
    "is \n",
    "a \n",
    "multi-line \n",
    "string''')"
   ]
  },
  {
   "cell_type": "code",
   "execution_count": 11,
   "metadata": {},
   "outputs": [
    {
     "name": "stdout",
     "output_type": "stream",
     "text": [
      "github.tesla.cn\n",
      "lning\n",
      "jasc-config-light\n"
     ]
    }
   ],
   "source": [
    "gitUrl = \"https://github.tesla.cn/lning/jasc-config-light\"\n",
    "\n",
    "gitUrlSplitted= gitUrl.split('/')\n",
    "\n",
    "github_domain_name = gitUrlSplitted[2]\n",
    "github_org = gitUrlSplitted[3]\n",
    "github_repo_name = gitUrlSplitted[4]\n",
    "\n",
    "print(github_domain_name)\n",
    "print(github_org)\n",
    "print(github_repo_name)\n",
    "\n"
   ]
  },
  {
   "cell_type": "code",
   "execution_count": null,
   "metadata": {},
   "outputs": [],
   "source": []
  },
  {
   "cell_type": "markdown",
   "metadata": {},
   "source": [
    "## Strings can be concatenated (glued together) with the + operator, and repeated with *"
   ]
  },
  {
   "cell_type": "code",
   "execution_count": 1,
   "metadata": {},
   "outputs": [
    {
     "data": {
      "text/plain": [
       "'supersupercool'"
      ]
     },
     "execution_count": 1,
     "metadata": {},
     "output_type": "execute_result"
    }
   ],
   "source": [
    "2 * 'super' + 'cool'"
   ]
  },
  {
   "cell_type": "markdown",
   "metadata": {},
   "source": [
    "## String index"
   ]
  },
  {
   "cell_type": "code",
   "execution_count": 13,
   "metadata": {},
   "outputs": [
    {
     "name": "stdout",
     "output_type": "stream",
     "text": [
      "P\n",
      "n\n"
     ]
    }
   ],
   "source": [
    "word = 'Python'\n",
    "\n",
    "print(word[0])\n",
    "print(word[-1])"
   ]
  },
  {
   "cell_type": "code",
   "execution_count": 14,
   "metadata": {},
   "outputs": [
    {
     "name": "stdout",
     "output_type": "stream",
     "text": [
      "140438317424560\n",
      "140438317424560\n"
     ]
    }
   ],
   "source": [
    "word2 = word\n",
    "print(id(word))\n",
    "print(id(word2))"
   ]
  }
 ],
 "metadata": {
  "kernelspec": {
   "display_name": "Python 3.9.13 64-bit",
   "language": "python",
   "name": "python3"
  },
  "language_info": {
   "codemirror_mode": {
    "name": "ipython",
    "version": 3
   },
   "file_extension": ".py",
   "mimetype": "text/x-python",
   "name": "python",
   "nbconvert_exporter": "python",
   "pygments_lexer": "ipython3",
   "version": "3.9.18"
  },
  "orig_nbformat": 4,
  "vscode": {
   "interpreter": {
    "hash": "aee8b7b246df8f9039afb4144a1f6fd8d2ca17a180786b69acc140d282b71a49"
   }
  }
 },
 "nbformat": 4,
 "nbformat_minor": 2
}
