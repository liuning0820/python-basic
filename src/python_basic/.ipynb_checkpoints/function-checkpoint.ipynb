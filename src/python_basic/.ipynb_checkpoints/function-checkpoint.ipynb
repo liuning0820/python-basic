{
 "cells": [
  {
   "cell_type": "markdown",
   "metadata": {},
   "source": [
    "# Why Function\n",
    "\n",
    "1. Divide\n",
    "2. Composition\n",
    "3. Reuse"
   ]
  },
  {
   "cell_type": "markdown",
   "metadata": {},
   "source": [
    "## 递归函数"
   ]
  },
  {
   "cell_type": "code",
   "execution_count": 6,
   "metadata": {
    "ExecuteTime": {
     "end_time": "2023-11-04T16:47:35.157126Z",
     "start_time": "2023-11-04T16:47:35.149964Z"
    },
    "collapsed": true
   },
   "outputs": [
    {
     "name": "stdout",
     "output_type": "stream",
     "text": [
      "8\n",
      "<function fibonacci at 0x00000230BAC9B880>\n"
     ]
    }
   ],
   "source": [
    "def fibonacci(x):\n",
    "    \"\"\"Return fibonacci of x, where x is a non-negative int\"\"\"\n",
    "    if x == 0 or x == 1:\n",
    "        return 1\n",
    "    else:\n",
    "        return fibonacci(x - 1) + fibonacci(x - 2)\n",
    "\n",
    "\n",
    "print(fibonacci(5))\n",
    "print(fibonacci)"
   ]
  },
  {
   "cell_type": "code",
   "execution_count": null,
   "metadata": {
    "ExecuteTime": {
     "end_time": "2023-05-06T21:52:17.171751Z",
     "start_time": "2023-05-06T21:52:17.159774Z"
    }
   },
   "outputs": [],
   "source": [
    "def is_palindrome(s):\n",
    "    \"\"\"Returns True if s is a palindrome and False otherwise\"\"\"\n",
    "    if len(s) <= 1:\n",
    "        return True\n",
    "    else:\n",
    "        return s[0] == s[-1] and is_palindrome(s[1:-1])\n",
    "\n",
    "print(is_palindrome(\"1\"))\n",
    "print(is_palindrome(\"32123\"))"
   ]
  },
  {
   "cell_type": "code",
   "execution_count": 7,
   "metadata": {
    "ExecuteTime": {
     "end_time": "2023-11-04T16:49:17.983232Z",
     "start_time": "2023-11-04T16:49:17.971276Z"
    }
   },
   "outputs": [
    {
     "name": "stdout",
     "output_type": "stream",
     "text": [
      "24\n"
     ]
    }
   ],
   "source": [
    "def factorial(n):\n",
    "    if n == 0:\n",
    "        return 1\n",
    "    else:\n",
    "        recurse = factorial(n-1)\n",
    "        result = n * recurse\n",
    "        return result\n",
    "\n",
    "print(factorial(4))"
   ]
  },
  {
   "cell_type": "markdown",
   "metadata": {},
   "source": [
    "## Boolean functions"
   ]
  },
  {
   "cell_type": "code",
   "execution_count": 4,
   "metadata": {
    "ExecuteTime": {
     "end_time": "2023-11-04T16:39:09.489588Z",
     "start_time": "2023-11-04T16:39:09.468414Z"
    }
   },
   "outputs": [
    {
     "data": {
      "text/plain": [
       "bool"
      ]
     },
     "execution_count": 4,
     "metadata": {},
     "output_type": "execute_result"
    }
   ],
   "source": [
    "def is_divisible(x, y):\n",
    "    if x % y == 0:\n",
    "        return True\n",
    "    else:\n",
    "        return False\n",
    "\n",
    "type(is_divisible(4,2))"
   ]
  },
  {
   "cell_type": "markdown",
   "metadata": {},
   "source": [
    "## Exercise 1\n",
    "\n",
    "Write a function named `right_justify` that takes a string named s as a parameter\n",
    "and prints the string with enough leading spaces so that the last letter of the string is in column 70\n",
    "of the display"
   ]
  },
  {
   "cell_type": "code",
   "execution_count": null,
   "metadata": {},
   "outputs": [],
   "source": [
    "def right_justify(s):\n",
    "    count_of_space = 70 - len(s)\n",
    "    print(' '*count_of_space + s)\n",
    "\n",
    "right_justify(\"cat\")\n",
    "right_justify(\"elephant\")"
   ]
  },
  {
   "cell_type": "code",
   "execution_count": null,
   "metadata": {},
   "outputs": [],
   "source": [
    "import math\n",
    "\n",
    "\n",
    "# build-in functions\n",
    "print(max('Hello world'))\n",
    "print(min('hello world'))\n",
    "print(len('Hello world'))\n",
    "\n",
    "# type conversion build-in functions\n",
    "print(int(3.99999))\n",
    "print(int(-2.3))"
   ]
  },
  {
   "cell_type": "code",
   "execution_count": null,
   "metadata": {},
   "outputs": [],
   "source": [
    "def calc_money(a):\n",
    "    discount_sum=0\n",
    "    if a > 100:\n",
    "        discount_sum = a * 0.7\n",
    "    if a > 300:\n",
    "        discount_sum = a * 0.6\n",
    "    print(discount_sum)\n",
    "\n",
    "calc_money(200)\n",
    "calc_money(400)"
   ]
  },
  {
   "cell_type": "code",
   "execution_count": null,
   "metadata": {},
   "outputs": [],
   "source": [
    "def endless_recurse():\n",
    "    endless_recurse()\n",
    "\n",
    "endless_recurse()   # RecursionError: maximum recursion depth exceeded"
   ]
  },
  {
   "cell_type": "code",
   "execution_count": null,
   "metadata": {},
   "outputs": [],
   "source": []
  }
 ],
 "metadata": {
  "kernelspec": {
   "display_name": "Python 3 (ipykernel)",
   "language": "python",
   "name": "python3"
  },
  "language_info": {
   "codemirror_mode": {
    "name": "ipython",
    "version": 3
   },
   "file_extension": ".py",
   "mimetype": "text/x-python",
   "name": "python",
   "nbconvert_exporter": "python",
   "pygments_lexer": "ipython3",
   "version": "3.10.13"
  }
 },
 "nbformat": 4,
 "nbformat_minor": 1
}
