{
 "cells": [
  {
   "cell_type": "markdown",
   "metadata": {},
   "source": [
    "\n",
    "# Exception Names\n",
    "\n",
    "Class names should normally use the CapWords convention.\n",
    "Because exceptions should be classes, the class naming convention applies here. \n",
    "\n",
    "However, you should use the suffix “Error” on your exception names (if the exception actually is an error)."
   ]
  },
  {
   "cell_type": "code",
   "execution_count": null,
   "metadata": {},
   "outputs": [],
   "source": [
    "# #捕获异常并使用其自带的异常参数\n",
    "try:\n",
    "    float('test')\n",
    "except ValueError as e:\n",
    "    print(type(e))\n",
    "    print(e)\n",
    "    pass\n",
    "\n"
   ]
  }
 ],
 "metadata": {
  "kernelspec": {
   "display_name": "python-basic-PuRJ7LVh-py3.11",
   "language": "python",
   "name": "python3"
  },
  "language_info": {
   "codemirror_mode": {
    "name": "ipython",
    "version": 3
   },
   "file_extension": ".py",
   "mimetype": "text/x-python",
   "name": "python",
   "nbconvert_exporter": "python",
   "pygments_lexer": "ipython3",
   "version": "3.11.0"
  }
 },
 "nbformat": 4,
 "nbformat_minor": 2
}
