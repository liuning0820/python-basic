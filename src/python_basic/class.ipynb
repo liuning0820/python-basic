{
 "cells": [
  {
   "cell_type": "markdown",
   "metadata": {},
   "source": [
    "# Python Classes and Objects"
   ]
  },
  {
   "cell_type": "markdown",
   "metadata": {},
   "source": [
    "## Class names are usually capitalized"
   ]
  },
  {
   "cell_type": "markdown",
   "metadata": {
    "collapsed": false
   },
   "source": [
    "## 类方法、实例方法和静态方法\n",
    "\n",
    "采用 @classmethod 修饰的方法为类方法；采用 @staticmethod 修饰的方法为静态方法；不用任何修改的方法为实例方法。\n",
    "\n",
    "https://zhuanlan.zhihu.com/p/432237532\n",
    "\n",
    "一句话总结：当你想使用工厂模式，根据不同的参数生成同一个类的不同对象的时候，就可以使用类方法。\n",
    "\n",
    "一句话总结：静态方法就是某个类专用的工具函数。"
   ]
  },
  {
   "cell_type": "markdown",
   "metadata": {},
   "source": [
    "## Class and Instance Variables\n"
   ]
  },
  {
   "cell_type": "code",
   "execution_count": null,
   "metadata": {},
   "outputs": [],
   "source": [
    "class Dog:\n",
    "\n",
    "    kind = 'canine'         # class variable shared by all instances\n",
    "\n",
    "    def __init__(self, name):\n",
    "        self.name = name    # instance variable unique to each instance\n",
    "\n",
    "    # Adds an instance variable\n",
    "    def setColor(self, color):\n",
    "        self.color = color\n",
    " \n",
    "    # Retrieves instance variable\n",
    "    def getColor(self):\n",
    "        return self.color\n",
    "\n",
    "d= Dog('Fido')\n",
    "e = Dog('Buddy')\n",
    "\n",
    "print(d)\n",
    "print(e)\n",
    "print(d.kind)\n",
    "print(e.kind)\n",
    "print(d.name)\n",
    "print(e.name)\n",
    "\n",
    "d.setColor(\"black\")\n",
    "print(d.getColor())\n",
    "print(e.getColor())"
   ]
  },
  {
   "cell_type": "markdown",
   "metadata": {},
   "source": [
    "## Class parameters"
   ]
  },
  {
   "cell_type": "code",
   "execution_count": null,
   "metadata": {},
   "outputs": [],
   "source": [
    "\n",
    "class Student:\n",
    "    'student class'\n",
    "    def __init__(self, name, score):\n",
    "        self.name = name\n",
    "        self.__score = score\n",
    "\n",
    "    def print_score(self):\n",
    "        # print ('%s: %s' % (self.name, self.__score))\n",
    "        print('{}: {}'.format(self.name,self.__score))\n",
    "\n",
    "    def get_grade(self):\n",
    "        if self.__score >= 90:\n",
    "            return 'A'\n",
    "        elif self.__score >= 60:\n",
    "            return 'B'\n",
    "        else:\n",
    "            return 'C'\n",
    "\n",
    "bart = Student('Bart Simpson', 59)\n",
    "lisa = Student('Lisa Simpson', 87)\n",
    "print (bart)\n",
    "print (lisa)\n",
    "print (bart.name)\n",
    "\n",
    "print (type(bart))\n",
    "print (bart.__doc__)\n",
    "print (bart.__dict__)\n",
    "\n",
    "print (lisa.get_grade())\n",
    "bart.print_score()\n",
    "\n",
    "# below two are the same, that why the print_score methoed need the argument 'self', 事实上，后一种方法实际执行的时候，会转化成前一种。\n",
    "Student.print_score(lisa)\n",
    "lisa.print_score()"
   ]
  },
  {
   "cell_type": "markdown",
   "source": [
    "## 多态\n",
    "继承（Inheritance）：继承是一种机制，允许一个类从另一个类继承属性和方法。这样可以在不重复编写代码的情况下，创建具有相似行为的新类。继承提供了代码重用的手段，同时也支持多态性（Polymorphism）。\n",
    "\n",
    "多态性（Polymorphism）：多态性是指相同的接口可以用于不同类型的对象。\n",
    "在Python中，多态性使得可以使用相同的方法名称来处理不同的对象类型，从而使代码更加灵活和可扩展。\n",
    "在Python中，多态性通常通过方法重写（method overriding）来实现。"
   ],
   "metadata": {
    "collapsed": false
   }
  },
  {
   "cell_type": "code",
   "execution_count": null,
   "outputs": [],
   "source": [
    "class Animal:\n",
    "    def speak(self):\n",
    "        pass\n",
    "\n",
    "class Dog(Animal):\n",
    "    def speak(self):\n",
    "        return \"Woof!\"\n",
    "\n",
    "class Cat(Animal):\n",
    "    def speak(self):\n",
    "        return \"Meow!\"\n",
    "\n",
    "class Duck(Animal):\n",
    "    def speak(self):\n",
    "        return \"Quack!\"\n",
    "\n",
    "# 函数接受任何 Animal 类型的对象，调用其 speak 方法\n",
    "def animal_sound(animal:Animal):\n",
    "    return animal.speak()\n",
    "\n",
    "# 创建不同类型的动物对象\n",
    "dog = Dog()\n",
    "cat = Cat()\n",
    "duck = Duck()\n",
    "\n",
    "# 调用 animal_sound 函数，展示多态性\n",
    "print(animal_sound(dog))   # 输出: Woof!\n",
    "print(animal_sound(cat))   # 输出: Meow!\n",
    "print(animal_sound(duck))  # 输出: Quack!\n"
   ],
   "metadata": {
    "collapsed": false,
    "ExecuteTime": {
     "start_time": "2023-12-03T20:55:27.009821Z",
     "end_time": "2023-12-03T20:55:27.031449Z"
    }
   }
  },
  {
   "cell_type": "markdown",
   "metadata": {},
   "source": [
    "## Reference\n",
    "\n",
    "https://docs.python.org/zh-cn/3/tutorial/classes.html\n",
    "\n"
   ]
  }
 ],
 "metadata": {
  "kernelspec": {
   "display_name": "Python 3.8.5 64-bit",
   "language": "python",
   "name": "python3"
  },
  "language_info": {
   "codemirror_mode": {
    "name": "ipython",
    "version": 3
   },
   "file_extension": ".py",
   "mimetype": "text/x-python",
   "name": "python",
   "nbconvert_exporter": "python",
   "pygments_lexer": "ipython3",
   "version": "3.11.0"
  },
  "orig_nbformat": 4,
  "vscode": {
   "interpreter": {
    "hash": "bc6efa7a6ec380ec9ac5292f4d82c68fcb12fc71be2908b5008511f492216150"
   }
  }
 },
 "nbformat": 4,
 "nbformat_minor": 2
}
