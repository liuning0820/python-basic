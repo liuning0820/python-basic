{
 "cells": [
  {
   "attachments": {},
   "cell_type": "markdown",
   "metadata": {},
   "source": [
    "# Python Basic\n"
   ]
  },
  {
   "attachments": {},
   "cell_type": "markdown",
   "metadata": {},
   "source": [
    "\n",
    "## Set"
   ]
  },
  {
   "cell_type": "code",
   "execution_count": 2,
   "metadata": {},
   "outputs": [
    {
     "name": "stdout",
     "output_type": "stream",
     "text": [
      "3\n"
     ]
    }
   ],
   "source": [
    "students =set()\n",
    "\n",
    "students.add(\"Tom\")\n",
    "students.add(\"Jacky\")\n",
    "students.add(\"Toby\")\n",
    "\n",
    "print(len(students))\n"
   ]
  }
 ],
 "metadata": {
  "kernelspec": {
   "display_name": "python-basic-PuRJ7LVh-py3.11",
   "language": "python",
   "name": "python3"
  },
  "language_info": {
   "codemirror_mode": {
    "name": "ipython",
    "version": 3
   },
   "file_extension": ".py",
   "mimetype": "text/x-python",
   "name": "python",
   "nbconvert_exporter": "python",
   "pygments_lexer": "ipython3",
   "version": "3.11.5"
  },
  "vscode": {
   "interpreter": {
    "hash": "60592c6c220f35828e7e98f475639c535ff2957dc579092243ebbd0018aeef91"
   }
  }
 },
 "nbformat": 4,
 "nbformat_minor": 2
}
