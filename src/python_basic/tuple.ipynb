{
 "cells": [
  {
   "attachments": {},
   "cell_type": "markdown",
   "metadata": {},
   "source": [
    "## Tuple\n",
    "\n",
    "元组：tuple。tuple和list非常类似，但是tuple一旦初始化就不能修改\n",
    "不可变的tuple有什么意义？因为tuple不可变，所以代码更安全。如果可能，能用tuple代替list就尽量用tuple"
   ]
  },
  {
   "cell_type": "code",
   "execution_count": 1,
   "metadata": {},
   "outputs": [
    {
     "name": "stdout",
     "output_type": "stream",
     "text": [
      "<class 'tuple'>\n",
      "3\n",
      "Michael\n"
     ]
    }
   ],
   "source": [
    "\n",
    "classmates = ('Michael', 'Bob', 'Tracy')\n",
    "print(type(classmates))\n",
    "print(len(classmates))\n",
    "print(classmates[0])\n"
   ]
  },
  {
   "cell_type": "code",
   "execution_count": 2,
   "metadata": {},
   "outputs": [
    {
     "ename": "TypeError",
     "evalue": "'tuple' object does not support item assignment",
     "output_type": "error",
     "traceback": [
      "\u001b[0;31m---------------------------------------------------------------------------\u001b[0m",
      "\u001b[0;31mTypeError\u001b[0m                                 Traceback (most recent call last)",
      "\u001b[1;32m/Users/lning/OneDrive/source-code/python_basic/src/basic/tuple.ipynb Cell 3\u001b[0m line \u001b[0;36m2\n\u001b[1;32m      <a href='vscode-notebook-cell:/Users/lning/OneDrive/source-code/python_basic/src/basic/tuple.ipynb#W5sZmlsZQ%3D%3D?line=0'>1</a>\u001b[0m \u001b[39m# TypeError: 'tuple' object does not support item assignment\u001b[39;00m\n\u001b[0;32m----> <a href='vscode-notebook-cell:/Users/lning/OneDrive/source-code/python_basic/src/basic/tuple.ipynb#W5sZmlsZQ%3D%3D?line=1'>2</a>\u001b[0m classmates[\u001b[39m0\u001b[39;49m] \u001b[39m=\u001b[39m \u001b[39m'\u001b[39m\u001b[39mAdam\u001b[39m\u001b[39m'\u001b[39m\n",
      "\u001b[0;31mTypeError\u001b[0m: 'tuple' object does not support item assignment"
     ]
    }
   ],
   "source": [
    "# TypeError: 'tuple' object does not support item assignment\n",
    "classmates[0] = 'Adam'\n"
   ]
  },
  {
   "cell_type": "code",
   "execution_count": 4,
   "metadata": {},
   "outputs": [
    {
     "name": "stdout",
     "output_type": "stream",
     "text": [
      "(3,)\n",
      "(1, 2)\n",
      "((7, 3),)\n",
      "(2,)\n",
      "(7, 3)\n"
     ]
    }
   ],
   "source": [
    "# ***** variable-length argument tuples *****\n",
    "def printall(*args):\n",
    "    print(args)\n",
    "\n",
    "t =(7,3)\n",
    "printall(3)\n",
    "printall(1,2)\n",
    "printall(t)\n",
    "# scatter the tuple\n",
    "printall(*t)\n",
    "\n"
   ]
  }
 ],
 "metadata": {
  "kernelspec": {
   "display_name": "python-basic-PuRJ7LVh-py3.11",
   "language": "python",
   "name": "python3"
  },
  "language_info": {
   "codemirror_mode": {
    "name": "ipython",
    "version": 3
   },
   "file_extension": ".py",
   "mimetype": "text/x-python",
   "name": "python",
   "nbconvert_exporter": "python",
   "pygments_lexer": "ipython3",
   "version": "3.11.5"
  },
  "vscode": {
   "interpreter": {
    "hash": "60592c6c220f35828e7e98f475639c535ff2957dc579092243ebbd0018aeef91"
   }
  }
 },
 "nbformat": 4,
 "nbformat_minor": 2
}
