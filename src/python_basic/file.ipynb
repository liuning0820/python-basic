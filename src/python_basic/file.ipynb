{
 "cells": [
  {
   "cell_type": "markdown",
   "metadata": {},
   "source": [
    "## Read and Write File"
   ]
  },
  {
   "cell_type": "code",
   "execution_count": null,
   "metadata": {},
   "outputs": [],
   "source": [
    "file_out = open('seasons.txt', 'w')\n",
    "line1 = \"Spring\\n\"\n",
    "line2 = \"Summer\\n\"\n",
    "line3 = \"Autumn\\n\"\n",
    "line4 = \"Winter\\n\"\n",
    "file_out.write(line1)\n",
    "file_out.write(line2)\n",
    "file_out.write(line3)\n",
    "file_out.write(line4)\n",
    "file_out.close()"
   ]
  },
  {
   "cell_type": "code",
   "execution_count": null,
   "metadata": {},
   "outputs": [],
   "source": [
    "# 'r', for reading.\n",
    "# 'w', write() mode\n",
    "# 'a', append() mode\n",
    "# 'r+', for both reading and writing\n",
    "# https://www.runoob.com/python/file-methods.html\n",
    "\n",
    "# seasons_file = open('seasons.txt', 'r', encoding='utf-8')\n",
    "seasons_file = open('seasons.txt', 'r')\n",
    "for line in seasons_file:\n",
    "    print(line)\n",
    "\n",
    "seasons_file.close()"
   ]
  },
  {
   "cell_type": "markdown",
   "metadata": {},
   "source": [
    "## Filenames and paths"
   ]
  },
  {
   "cell_type": "code",
   "execution_count": null,
   "metadata": {},
   "outputs": [],
   "source": [
    "import os\n",
    "\n",
    "pwd = os.getcwd()\n",
    "\n",
    "print(pwd)"
   ]
  }
 ],
 "metadata": {
  "interpreter": {
   "hash": "bc6efa7a6ec380ec9ac5292f4d82c68fcb12fc71be2908b5008511f492216150"
  },
  "kernelspec": {
   "display_name": "Python 3.8.5 64-bit",
   "language": "python",
   "name": "python3"
  },
  "language_info": {
   "codemirror_mode": {
    "name": "ipython",
    "version": 3
   },
   "file_extension": ".py",
   "mimetype": "text/x-python",
   "name": "python",
   "nbconvert_exporter": "python",
   "pygments_lexer": "ipython3",
   "version": "3.8.5"
  },
  "orig_nbformat": 4
 },
 "nbformat": 4,
 "nbformat_minor": 2
}
