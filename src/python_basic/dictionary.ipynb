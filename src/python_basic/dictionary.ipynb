{
 "cells": [
  {
   "cell_type": "code",
   "execution_count": 3,
   "outputs": [
    {
     "name": "stdout",
     "output_type": "stream",
     "text": [
      "Tom\n",
      "Garfield\n",
      "None\n",
      "Basil\n"
     ]
    },
    {
     "ename": "KeyError",
     "evalue": "'cats'",
     "output_type": "error",
     "traceback": [
      "\u001B[1;31m---------------------------------------------------------------------------\u001B[0m",
      "\u001B[1;31mKeyError\u001B[0m                                  Traceback (most recent call last)",
      "Cell \u001B[1;32mIn[3], line 14\u001B[0m\n\u001B[0;32m     11\u001B[0m \u001B[38;5;28mprint\u001B[39m(dicts[\u001B[38;5;124m'\u001B[39m\u001B[38;5;124mdog\u001B[39m\u001B[38;5;124m'\u001B[39m])\n\u001B[0;32m     13\u001B[0m \u001B[38;5;66;03m#KeyError: 'cats\u001B[39;00m\n\u001B[1;32m---> 14\u001B[0m \u001B[38;5;28mprint\u001B[39m(\u001B[43mdicts\u001B[49m\u001B[43m[\u001B[49m\u001B[38;5;124;43m'\u001B[39;49m\u001B[38;5;124;43mcats\u001B[39;49m\u001B[38;5;124;43m'\u001B[39;49m\u001B[43m]\u001B[49m)\n",
      "\u001B[1;31mKeyError\u001B[0m: 'cats'"
     ]
    }
   ],
   "source": [
    "dicts = {'cat': 'Tom', 'dog': 'Basil', 'mouse': 'Whiskers'}\n",
    "\n",
    "print(dicts.get('cat'))\n",
    "\n",
    "print(dicts.get('cats','Garfield'))\n",
    "\n",
    "#default to None\n",
    "print(dicts.get('cats'))\n",
    "\n",
    "\n",
    "print(dicts['dog'])\n",
    "\n",
    "#KeyError: 'cats\n",
    "print(dicts['cats'])"
   ],
   "metadata": {
    "collapsed": false,
    "ExecuteTime": {
     "start_time": "2023-10-31T19:40:00.925568Z",
     "end_time": "2023-10-31T19:40:00.972346Z"
    }
   }
  },
  {
   "cell_type": "markdown",
   "source": [
    "## Order\n",
    "\n",
    "The CPython implementation of Python 3.6 has ordered dictionaries.\n",
    "\n",
    "This means that items in dictionaries are iterated over in the same order they were inserted."
   ],
   "metadata": {
    "collapsed": false
   }
  },
  {
   "cell_type": "code",
   "execution_count": 1,
   "metadata": {
    "ExecuteTime": {
     "start_time": "2023-10-31T19:37:46.020856Z",
     "end_time": "2023-10-31T19:37:46.038841Z"
    }
   },
   "outputs": [
    {
     "name": "stdout",
     "output_type": "stream",
     "text": [
      "key : 1,value : one\n",
      "key : 2,value : two\n",
      "key : 3,value : three\n",
      "key : 4,value : four\n",
      "key : 5,value : five\n"
     ]
    }
   ],
   "source": [
    "normal_dict = {'1': \"one\", '2': \"two\", '3': \"three\", '4': \"four\", '5': \"five\"}\n",
    "\n",
    "for key,value in normal_dict.items():\n",
    "\tprint(\"key : {0},value : {1}\".format(key,value))"
   ]
  },
  {
   "cell_type": "markdown",
   "metadata": {},
   "source": [
    "## OrderedDict"
   ]
  },
  {
   "cell_type": "code",
   "execution_count": 1,
   "metadata": {},
   "outputs": [
    {
     "name": "stdout",
     "output_type": "stream",
     "text": [
      "OrderedDict([('Name', 'Michelle'), ('ID', 19210293), ('Branch', 'Computer Science')])\n"
     ]
    }
   ],
   "source": [
    "from collections import OrderedDict\n",
    "\n",
    "students = OrderedDict()\n",
    "students[\"Name\"] = \"Michelle\"\n",
    "students[\"ID\"] = 19210293\n",
    "students[\"Branch\"] = \"Computer Science\"\n",
    "print(students)"
   ]
  },
  {
   "cell_type": "code",
   "execution_count": null,
   "metadata": {},
   "outputs": [],
   "source": [
    "collections.OrderedDict(sorted(students.items(),))"
   ]
  },
  {
   "cell_type": "code",
   "execution_count": 1,
   "outputs": [
    {
     "data": {
      "text/plain": "dict"
     },
     "execution_count": 1,
     "metadata": {},
     "output_type": "execute_result"
    }
   ],
   "source": [
    "keymap = {\n",
    "\t\"channel\": \"feed\",\n",
    "\t\"items\": \"entries\",\n",
    "\t\"guid\": \"id\",\n",
    "\t\"date\": \"updated\",\n",
    "\t\"date_parsed\": \"updated_parsed\",\n",
    "\t\"description\": [\"summary\", \"subtitle\"],\n",
    "\t\"description_detail\": [\"summary_detail\", \"subtitle_detail\"],\n",
    "\t\"url\": [\"href\"],\n",
    "\t\"modified\": \"updated\",\n",
    "\t\"modified_parsed\": \"updated_parsed\",\n",
    "\t\"issued\": \"published\",\n",
    "\t\"issued_parsed\": \"published_parsed\",\n",
    "\t\"copyright\": \"rights\",\n",
    "\t\"copyright_detail\": \"rights_detail\",\n",
    "\t\"tagline\": \"subtitle\",\n",
    "\t\"tagline_detail\": \"subtitle_detail\",\n",
    "}\n",
    "\n",
    "type(keymap)"
   ],
   "metadata": {
    "collapsed": false,
    "ExecuteTime": {
     "start_time": "2023-11-11T08:16:35.056537Z",
     "end_time": "2023-11-11T08:16:35.072826Z"
    }
   }
  },
  {
   "cell_type": "code",
   "execution_count": 2,
   "outputs": [
    {
     "data": {
      "text/plain": "'subtitle'"
     },
     "execution_count": 2,
     "metadata": {},
     "output_type": "execute_result"
    }
   ],
   "source": [
    "keymap.__getitem__(\"tagline\")\n"
   ],
   "metadata": {
    "collapsed": false,
    "ExecuteTime": {
     "start_time": "2023-11-11T08:25:38.290736Z",
     "end_time": "2023-11-11T08:25:38.309245Z"
    }
   }
  },
  {
   "cell_type": "code",
   "execution_count": null,
   "outputs": [],
   "source": [],
   "metadata": {
    "collapsed": false
   }
  }
 ],
 "metadata": {
  "kernelspec": {
   "display_name": "Python 3.9.13 64-bit",
   "language": "python",
   "name": "python3"
  },
  "language_info": {
   "codemirror_mode": {
    "name": "ipython",
    "version": 3
   },
   "file_extension": ".py",
   "mimetype": "text/x-python",
   "name": "python",
   "nbconvert_exporter": "python",
   "pygments_lexer": "ipython3",
   "version": "3.9.13"
  },
  "orig_nbformat": 4,
  "vscode": {
   "interpreter": {
    "hash": "aee8b7b246df8f9039afb4144a1f6fd8d2ca17a180786b69acc140d282b71a49"
   }
  }
 },
 "nbformat": 4,
 "nbformat_minor": 2
}
