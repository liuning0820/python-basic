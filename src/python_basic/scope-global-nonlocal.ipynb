{
 "cells": [
  {
   "cell_type": "code",
   "execution_count": 9,
   "metadata": {
    "collapsed": true,
    "ExecuteTime": {
     "end_time": "2023-11-08T07:18:53.484825Z",
     "start_time": "2023-11-08T07:18:53.478716Z"
    }
   },
   "outputs": [
    {
     "name": "stdout",
     "output_type": "stream",
     "text": [
      "Outer variable: 20\n",
      "Local variable: 30\n",
      "Nonlocal variable: 40\n",
      "Global variable: 50\n",
      "Outer variable: 40\n"
     ]
    }
   ],
   "source": [
    "# Global variable\n",
    "global_var = 10\n",
    "\n",
    "def outer_function():\n",
    "    # Outer function variable\n",
    "    outer_var = 20\n",
    "\n",
    "    def inner_function():\n",
    "        # Local variable\n",
    "        inner_var = 30\n",
    "\n",
    "        print(\"Local variable:\", inner_var) # 30\n",
    "        nonlocal outer_var\n",
    "        outer_var = 40\n",
    "\n",
    "        print(\"Nonlocal variable:\", outer_var) # 40\n",
    "        global global_var\n",
    "        global_var = 50\n",
    "        print(\"Global variable:\", global_var) # 50\n",
    "\n",
    "    print(\"Outer variable:\", outer_var) # 20\n",
    "    inner_function()\n",
    "    print(\"Outer variable:\", outer_var)\n",
    "\n",
    "outer_function()\n"
   ]
  },
  {
   "cell_type": "code",
   "execution_count": 8,
   "outputs": [],
   "source": [],
   "metadata": {
    "collapsed": false,
    "ExecuteTime": {
     "end_time": "2023-11-08T07:17:27.649043Z",
     "start_time": "2023-11-08T07:17:27.641325Z"
    }
   }
  },
  {
   "cell_type": "code",
   "execution_count": null,
   "outputs": [],
   "source": [],
   "metadata": {
    "collapsed": false
   }
  }
 ],
 "metadata": {
  "kernelspec": {
   "display_name": "Python 3",
   "language": "python",
   "name": "python3"
  },
  "language_info": {
   "codemirror_mode": {
    "name": "ipython",
    "version": 2
   },
   "file_extension": ".py",
   "mimetype": "text/x-python",
   "name": "python",
   "nbconvert_exporter": "python",
   "pygments_lexer": "ipython2",
   "version": "2.7.6"
  }
 },
 "nbformat": 4,
 "nbformat_minor": 0
}
